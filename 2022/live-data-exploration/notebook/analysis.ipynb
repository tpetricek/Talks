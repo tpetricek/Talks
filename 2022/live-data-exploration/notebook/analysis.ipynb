{
 "cells": [
  {
   "cell_type": "code",
   "execution_count": 17,
   "metadata": {},
   "outputs": [],
   "source": [
    "import numpy as np\n",
    "import pandas as pd"
   ]
  },
  {
   "cell_type": "code",
   "execution_count": 30,
   "metadata": {},
   "outputs": [],
   "source": [
    "pd.read_csv(\"../raw/avia_paoc.tsv\",sep=\"\\t\",na_values=[': ',': z',': c'])"
   ]
  },
  {
   "cell_type": "code",
   "execution_count": 29,
   "metadata": {},
   "outputs": [],
   "source": [
    "raw = pd.read_csv(\"../raw/avia_paoc.tsv\",sep=\"\\t\",na_values=[': ',': z',': c'])\n",
    "info = raw[raw.columns[0]].str.split(pat=\",\",expand=True) \\\n",
    "  .set_axis(raw.columns[0].split(\",\"), axis=1) \\\n",
    "  .rename(columns={\"geo\\\\time\":\"geo\"})\n",
    "filtered = raw.drop([raw.columns[0]], axis=1)\n",
    "#info.join(filtered)"
   ]
  },
  {
   "cell_type": "code",
   "execution_count": 22,
   "metadata": {},
   "outputs": [],
   "source": [
    "def read_eurostat_file(fn):\n",
    "  raw = pd.read_csv(fn,sep=\"\\t\",na_values=[': ',': z',': c'])\n",
    "  info = \\\n",
    "    raw[raw.columns[0]].str.split(pat=\",\",expand=True) \\\n",
    "      .set_axis(raw.columns[0].split(\",\"), axis=1) \\\n",
    "      .rename(columns={\"geo\\\\time\":\"geo\"})\n",
    "  filtered = raw.drop([raw.columns[0]], axis=1)\n",
    "  return info.join(filtered)"
   ]
  },
  {
   "cell_type": "code",
   "execution_count": 26,
   "metadata": {},
   "outputs": [
    {
     "data": {
      "text/plain": [
       "array(['MIO_PKM', 'THS_PAS'], dtype=object)"
      ]
     },
     "execution_count": 26,
     "metadata": {},
     "output_type": "execute_result"
    }
   ],
   "source": [
    "avia_file = \"../raw/avia_paoc.tsv\"\n",
    "rail_file = \"../raw/rail_pa_total.tsv\"\n",
    "avia = read_eurostat_file(avia_file)\n",
    "rail = read_eurostat_file(rail_file)\n",
    "# rail['geo'].unique()\n",
    "# rail['unit'].unique()"
   ]
  },
  {
   "cell_type": "code",
   "execution_count": 27,
   "metadata": {},
   "outputs": [],
   "source": [
    "avia_ps = \\\n",
    "  avia.loc[(avia[\"tra_meas\"] == \"CAF_PAS\") & (avia[\"schedule\"] == \"TOT\") & \\\n",
    "    (avia[\"tra_cov\"] == \"TOTAL\") & (avia[\"geo\"] != \"EU27\") & (avia[\"geo\"] != \"EU28\")]  \\\n",
    "    .set_index(\"geo\")\n",
    "\n",
    "rail_ps = \\\n",
    "  rail.loc[(rail[\"unit\"] == \"THS_PAS\") & (rail[\"geo\"] != \"EU27\") &(rail[\"geo\"] != \"EU28\")] \\\n",
    "    .set_index(\"geo\")"
   ]
  },
  {
   "cell_type": "code",
   "execution_count": 14,
   "metadata": {},
   "outputs": [],
   "source": [
    "rp17 = rail_ps[\"2017 \"]\n",
    "ap17 = avia_ps[\"2017Q1 \"] + avia_ps[\"2017Q2 \"] + avia_ps[\"2017Q3 \"] + avia_ps[\"2017Q4 \"]\n",
    "\n",
    "aligned = pd.DataFrame(data={\"rail\":rp17, \"avia\":ap17}).dropna(axis='index')\n",
    "aligned['geo'] = aligned.index\n",
    "large = aligned.loc[aligned[\"rail\"] > 1000]\n"
   ]
  },
  {
   "cell_type": "code",
   "execution_count": null,
   "metadata": {},
   "outputs": [],
   "source": [
    "large.plot.bar(x='geo',figsize=(15,8))"
   ]
  },
  {
   "cell_type": "code",
   "execution_count": null,
   "metadata": {},
   "outputs": [],
   "source": [
    "ratio = pd.DataFrame({\"geo\":large[\"geo\"],\"ratio\":np.log(large[\"avia\"] / large[\"rail\"])})\n",
    "ratio.plot.bar(x=\"geo\",figsize=(15,8))"
   ]
  }
 ],
 "metadata": {
  "interpreter": {
   "hash": "9485ed756891fa4726e050cc9b17c3b231b45d181dbaa6be37f332af4626d49b"
  },
  "kernelspec": {
   "display_name": "Python 3.10.2 64-bit",
   "language": "python",
   "name": "python3"
  },
  "language_info": {
   "codemirror_mode": {
    "name": "ipython",
    "version": 3
   },
   "file_extension": ".py",
   "mimetype": "text/x-python",
   "name": "python",
   "nbconvert_exporter": "python",
   "pygments_lexer": "ipython3",
   "version": "3.10.2"
  },
  "orig_nbformat": 4
 },
 "nbformat": 4,
 "nbformat_minor": 2
}
